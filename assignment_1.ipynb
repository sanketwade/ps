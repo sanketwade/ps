{
 "cells": [
  {
   "cell_type": "code",
   "execution_count": null,
   "metadata": {},
   "outputs": [],
   "source": [
    "\"\"\"Write a program which will find all such numbers which are divisible by 7 but are not a multiple\n",
    "of 5, between 2000 and 3200 (both included). The numbers obtained should be printed in a\n",
    "comma-separated sequence on a single line\"\"\""
   ]
  },
  {
   "cell_type": "code",
   "execution_count": 15,
   "metadata": {},
   "outputs": [
    {
     "name": "stdout",
     "output_type": "stream",
     "text": [
      "list:\n",
      "\t [2002, 2009, 2016, 2023, 2037, 2044, 2051, 2058, 2072, 2079, 2086, 2093, 2107, 2114, 2121, 2128, 2142, 2149, 2156, 2163, 2177, 2184, 2191, 2198, 2212, 2219, 2226, 2233, 2247, 2254, 2261, 2268, 2282, 2289, 2296, 2303, 2317, 2324, 2331, 2338, 2352, 2359, 2366, 2373, 2387, 2394, 2401, 2408, 2422, 2429, 2436, 2443, 2457, 2464, 2471, 2478, 2492, 2499, 2506, 2513, 2527, 2534, 2541, 2548, 2562, 2569, 2576, 2583, 2597, 2604, 2611, 2618, 2632, 2639, 2646, 2653, 2667, 2674, 2681, 2688, 2702, 2709, 2716, 2723, 2737, 2744, 2751, 2758, 2772, 2779, 2786, 2793, 2807, 2814, 2821, 2828, 2842, 2849, 2856, 2863, 2877, 2884, 2891, 2898, 2912, 2919, 2926, 2933, 2947, 2954, 2961, 2968, 2982, 2989, 2996, 3003, 3017, 3024, 3031, 3038, 3052, 3059, 3066, 3073, 3087, 3094, 3101, 3108, 3122, 3129, 3136, 3143, 3157, 3164, 3171, 3178, 3192, 3199]\n"
     ]
    }
   ],
   "source": [
    "numbers = range(2000,3200+1)\n",
    "l = []\n",
    "c =[]\n",
    "for i in numbers:\n",
    "    if (i % 7)==0:\n",
    "        l.append(i)\n",
    "for z in l:\n",
    "    if (z % 5)==0:\n",
    "        l.remove(z)\n",
    "\n",
    "print('list:\\n\\t',l)\n"
   ]
  },
  {
   "cell_type": "code",
   "execution_count": 19,
   "metadata": {},
   "outputs": [
    {
     "name": "stdout",
     "output_type": "stream",
     "text": [
      " Enter the first name:sanket\n",
      "Enter The last name:wade\n"
     ]
    },
    {
     "data": {
      "text/plain": [
       "'teknas edaw'"
      ]
     },
     "execution_count": 19,
     "metadata": {},
     "output_type": "execute_result"
    }
   ],
   "source": [
    "'''Write a Python program to accept the user's first and last name and then getting them printed in\n",
    "the the reverse order with a space between first name and last name.'''\n",
    "\n",
    "n1=\"\"\n",
    "n2=\"\"\n",
    "reverse_name =\"\"\n",
    "name1 = list(input(\" Enter the first name:\"))\n",
    "name2 = list(input(\"Enter The last name:\"))\n",
    "for rev1 in name1[::-1]:\n",
    "    n1 = n1 + rev1\n",
    "#print(n1)\n",
    "for rev2 in name2[::-1]:\n",
    "    n2 = n2 + rev2\n",
    "#print(n2)\n",
    "\n",
    "reverse_name= n1 +\" \"+ n2\n",
    "reverse_name\n",
    "\n"
   ]
  },
  {
   "cell_type": "code",
   "execution_count": 6,
   "metadata": {},
   "outputs": [
    {
     "name": "stdout",
     "output_type": "stream",
     "text": [
      "Volume of the sphere = 904.7786842338603\n"
     ]
    }
   ],
   "source": [
    "#Write a Python program to find the volume of a sphere with diameter 12 cm.\n",
    "import math\n",
    "diameter = 12\n",
    "r = diameter/2\n",
    "pi = math.pi\n",
    "v = (4/3)*pi*(r**3)\n",
    "print(\"Volume of the sphere =\",v)\n",
    "\n"
   ]
  },
  {
   "cell_type": "code",
   "execution_count": null,
   "metadata": {},
   "outputs": [],
   "source": []
  },
  {
   "cell_type": "code",
   "execution_count": null,
   "metadata": {},
   "outputs": [],
   "source": [
    "'''Write a program which accepts a sequence of comma-separated numbers from console and\n",
    "generate a list.'''\n",
    "\n"
   ]
  },
  {
   "cell_type": "code",
   "execution_count": 13,
   "metadata": {},
   "outputs": [
    {
     "name": "stdout",
     "output_type": "stream",
     "text": [
      "enter the number:121,22,3\n",
      "[49, 50, 49, 50, 50, 44, 51]\n"
     ]
    }
   ],
   "source": [
    "num1 = input(\"enter the number:\")\n",
    "l2 = []\n",
    "l3 =[]\n",
    "l4=[]\n",
    "for l in (num1):\n",
    "    #print(l)\n",
    "    l2.append(l)\n",
    "for a in (l2):\n",
    "    l3.append(ord(a))\n",
    "l3.remove(ord(\",\"))\n",
    "print(l3)    \n",
    "    \n",
    "\n"
   ]
  },
  {
   "cell_type": "markdown",
   "metadata": {},
   "source": [
    "'''Create the below pattern using nested for loop in Python.\n",
    "*\n",
    "* *\n",
    "* * *\n",
    "* * * *\n",
    "* * * * *\n",
    "* * * *\n",
    "* * *\n",
    "* *\n",
    "*'''\n",
    "\n",
    "\n"
   ]
  },
  {
   "cell_type": "code",
   "execution_count": 17,
   "metadata": {},
   "outputs": [
    {
     "name": "stdout",
     "output_type": "stream",
     "text": [
      "*\n",
      "* * \n",
      "* * * \n",
      "* * * * \n",
      "* * * * * \n",
      "* * * * \n",
      "* * * \n",
      "* * \n",
      "* \n",
      "\n"
     ]
    }
   ],
   "source": [
    "a = \"* \"\n",
    "condi = 4\n",
    "b = 0\n",
    "while  b <= condi:\n",
    "    if b==0:  \n",
    "        print(\"*\")\n",
    "    b +=1\n",
    "    if b > 1:\n",
    "        print(a*b)\n",
    "b-=1\n",
    "while b >= 0:\n",
    "    print(a*b)\n",
    "    b-=1"
   ]
  },
  {
   "cell_type": "code",
   "execution_count": null,
   "metadata": {},
   "outputs": [],
   "source": []
  }
 ],
 "metadata": {
  "kernelspec": {
   "display_name": "Python 3",
   "language": "python",
   "name": "python3"
  },
  "language_info": {
   "codemirror_mode": {
    "name": "ipython",
    "version": 3
   },
   "file_extension": ".py",
   "mimetype": "text/x-python",
   "name": "python",
   "nbconvert_exporter": "python",
   "pygments_lexer": "ipython3",
   "version": "3.7.6"
  }
 },
 "nbformat": 4,
 "nbformat_minor": 4
}
